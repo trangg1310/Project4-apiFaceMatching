{
 "cells": [
  {
   "attachments": {},
   "cell_type": "markdown",
   "id": "cdece7b9",
   "metadata": {},
   "source": [
    "#Báo cáo phần Face detection sử dụng thư viện OpenCV và Face extraction(embededd) sử dụng VGGFace\n",
    "\n",
    "1. Thư viện opencv\n",
    "Sử dụng haarcascade_fontaface để nhận diện khuôn mặt \n",
    "a. Haarcascade là gì?\n",
    "Haarcascade sử dụng các đặc trưng loại Haar và xử lý nó qua nhiều lượt (cascade) để tạo thành 1 bộ hoàn chỉnh\n",
    "Đặc trưng Haar \n",
    "    Sử dụng các bộ lọc cơ bản trong xử lý ảnh. Các bộ lọc Haar gồm có:\n",
    "        Bộ lọc bắt các cạnh trong ảnh (edge feature)\n",
    "        Bộ lọc bắt các đường thẳng trong ảnh (line feature)\n",
    "        Bộ lọc đặc trưng 4 hình vuông (fore rectagle features)\n",
    "        Hoặc có thể là đặc trưng nằm gọn trong trung tâm của 1 vùng\n",
    "\n",
    "Cách áp dụng bộ lọc này khác với bộ lọc trong mạng CNN. Trong CNN bộ lọc chiếm toàn bộ cửa sổ trượt, còn trong Haar bộ lọc chỉ chiếm 1 phần cửa sổ trượt.\n",
    "\n",
    "b. Làm thế nào để biết bộ lọc\n",
    "\n",
    "\n"
   ]
  },
  {
   "cell_type": "code",
   "execution_count": 6,
   "id": "848065b7",
   "metadata": {},
   "outputs": [],
   "source": [
    "import cv2\n",
    "from facenet_pytorch import InceptionResnetV1\n",
    "import torch"
   ]
  },
  {
   "cell_type": "code",
   "execution_count": 7,
   "id": "62dd2d70",
   "metadata": {},
   "outputs": [],
   "source": [
    "face_detect = cv2.CascadeClassifier('opencv/haarcascade_frontalface_default.xml')"
   ]
  },
  {
   "cell_type": "code",
   "execution_count": 8,
   "id": "aee41bc3",
   "metadata": {},
   "outputs": [],
   "source": [
    "video = cv2.VideoCapture(0) #0- cammera của máy/ 1-cam rời gắn với máy/ hoặc 1 đường link video"
   ]
  },
  {
   "cell_type": "code",
   "execution_count": 9,
   "id": "49322432",
   "metadata": {},
   "outputs": [],
   "source": [
    "resnets = InceptionResnetV1(pretrained='vggface2').eval() #khởi tạo đối tượng InceptionResnetV1 để trích xuất đặc trưng khuôn mặt, với mô hình được huấn luyện trước trên vggface2, eval là để đánh giá/ không huấn luyện"
   ]
  },
  {
   "cell_type": "code",
   "execution_count": null,
   "id": "26a8396e",
   "metadata": {},
   "outputs": [],
   "source": [
    "while True:\n",
    "    _, frame = video.read()\n",
    "    faces = face_detect.detectMultiScale(frame,1.3,5)\n",
    "    face_tensors = []\n",
    "    count = 0\n",
    "    for(x,y,w,h) in faces:\n",
    "        cv2.imwrite('imgs/p1_{}.jpg'.format(count),frame[y: y+h, x: x+w]) #lưu ảnh khuôn mặt đã cắt   \n",
    "        cv2.rectangle(frame,(x,y),(x+w, y+h), (0,255,0))\n",
    "        face_tensor = cv2.imread('imgs/p1_{}.jpg'.format(count)) \n",
    "        face_tensor = cv2.cvtColor(face_tensor, cv2.COLOR_BGR2RGB) # chuyển đổi màu sắc từ BGR sang RGB????\n",
    "        face_tensors.append(face_tensor.transpose((2, 0, 1))) # chuyển đổi kích thước của ảnh thành (3, 160, 160) để phù hợp với mô hình\n",
    "        #face_tensors.append(face_tensor)\n",
    "        count+=1   \n",
    "    if face_tensors:\n",
    "        # chuyển đổi face_tensors thành tensor torch\n",
    "        faces = torch.stack([torch.Tensor(face_tensor) for face_tensor in face_tensors]) \n",
    "        embeddings = resnets(faces).detach().numpy() #chuyển tensor sang numpy\n",
    "        print(embeddings)\n",
    "        \n",
    "    cv2.imshow('frame', frame)\n",
    "    \n",
    "    if cv2.waitKey(30) & 0xff == ord('q'):\n",
    "        break"
   ]
  },
  {
   "cell_type": "code",
   "execution_count": 11,
   "id": "c0242e3f",
   "metadata": {},
   "outputs": [],
   "source": [
    "video.release()\n",
    "cv2.destroyAllWindows()"
   ]
  }
 ],
 "metadata": {
  "kernelspec": {
   "display_name": "opcv",
   "language": "python",
   "name": "python3"
  },
  "language_info": {
   "codemirror_mode": {
    "name": "ipython",
    "version": 3
   },
   "file_extension": ".py",
   "mimetype": "text/x-python",
   "name": "python",
   "nbconvert_exporter": "python",
   "pygments_lexer": "ipython3",
   "version": "3.8.16"
  }
 },
 "nbformat": 4,
 "nbformat_minor": 5
}
